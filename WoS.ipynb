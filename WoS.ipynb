{
 "cells": [
  {
   "cell_type": "markdown",
   "id": "730d154b-33da-406b-bd34-70857de78ca5",
   "metadata": {},
   "source": [
    "# International Collaboration\n",
    "## Init"
   ]
  },
  {
   "cell_type": "code",
   "execution_count": 13,
   "id": "52e77b81-1673-4c9e-a04c-ecd5a1bff7f7",
   "metadata": {
    "tags": []
   },
   "outputs": [],
   "source": [
    "import pandas as pd\n",
    "import openpyxl\n",
    "import my_module_wos\n",
    "PATH_FILES='C:\\\\Users\\\\vte\\\\Documents\\\\R\\\\WoS\\\\data\\\\'"
   ]
  },
  {
   "cell_type": "markdown",
   "id": "277c5653-4f09-4707-9d5f-12a039d60483",
   "metadata": {},
   "source": [
    "# Extract Organization and Country from C1"
   ]
  },
  {
   "cell_type": "code",
   "execution_count": 3,
   "id": "371f771f-b21c-4459-9149-fbb4e8627a50",
   "metadata": {
    "tags": []
   },
   "outputs": [
    {
     "name": "stdout",
     "output_type": "stream",
     "text": [
      "DataFrame has been successfully written to the file\n",
      "inter_collab\n",
      "False    11215\n",
      "True     10011\n",
      "Name: count, dtype: int64\n",
      "0 days 00:00:15.678465\n"
     ]
    }
   ],
   "source": [
    "stime= pd.Timestamp.now()\n",
    "YEAR=2020\n",
    "try:\n",
    "    wos_results=pd.read_excel(PATH_FILES+'savedrecs_'+str(YEAR)+'.xlsx')\n",
    "    wos_results['C1']=wos_results['C1'].astype(\"string\")    \n",
    "    wos_results=wos_results[['C1', 'UT', 'PublicationYear']]\n",
    "    wos_results=wos_results[wos_results['PublicationYear']==YEAR ]\n",
    "    wos_results['token']=wos_results.apply(my_module_wos.token, axis=1)\n",
    "    wos_results['token_country']=wos_results.apply(my_module_wos.token_country, axis=1)    \n",
    "    wos_results['inter_collab']=wos_results.apply(my_module_wos.inter_collab, axis=1)\n",
    "    wos_results.to_excel(PATH_FILES+\"C1_token_Results_\"+str(YEAR)+\".xlsx\", index=False)    \n",
    "    print(wos_results.inter_collab.value_counts())\n",
    "    print(\"DataFrame has been successfully written to the file\")\n",
    "except FileNotFoundError as file_not_found_exc:\n",
    "    print(f\"Input file not found: {file_not_found_exc}\")\n",
    "except openpyxl.utils.exceptions.InvalidFileException as openpyxl_exc:\n",
    "    print(f\"Error writing DataFrame to file: {openpyxl_exc}\")\n",
    "finally:\n",
    "    send= pd.Timestamp.now()\n",
    "    print(send-stime)\n",
    "\n",
    "\n",
    "\n"
   ]
  },
  {
   "cell_type": "markdown",
   "id": "c5c0c72c-f7a8-43eb-aecc-fa0ca3e70bce",
   "metadata": {},
   "source": [
    "## Search country in a list of files "
   ]
  },
  {
   "cell_type": "code",
   "execution_count": 27,
   "id": "8015113d-46b9-433a-8dbe-2e1868bdcf84",
   "metadata": {
    "tags": []
   },
   "outputs": [
    {
     "name": "stdout",
     "output_type": "stream",
     "text": [
      "DataFrame has been successfully written to the file\n",
      "0 days 00:00:07.948513\n"
     ]
    }
   ],
   "source": [
    "\n",
    "stime= pd.Timestamp.now()\n",
    "COUNTRY='Palestine'\n",
    "LIST_YEARS=[2019 , 2020, 2021, 2022, 2023 ]\n",
    "exist_occ=[]\n",
    "try:\n",
    "    for y in LIST_YEARS:\n",
    "        wos_results=pd.read_excel(PATH_FILES+'C1_token_Results_'+str(y)+'.xlsx')\n",
    "        wos_results['token_country']=wos_results['token_country'].astype(\"string\") \n",
    "        exists_occ = pd.concat([exists_occ,wos_results[wos_results['token_country'].str.contains(COUNTRY)]], \\\n",
    "                              ignore_index=True)\n",
    "    exists_occ.to_excel(PATH_FILES+\"C_\"+COUNTRY+\".xlsx\", index=False)    \n",
    "    print(\"DataFrame has been successfully written to the file\")\n",
    "except FileNotFoundError as file_not_found_exc:\n",
    "    print(f\"Input file not found: {file_not_found_exc}\")\n",
    "except openpyxl.utils.exceptions.InvalidFileException as openpyxl_exc:\n",
    "    print(f\"Error writing DataFrame to file: {openpyxl_exc}\")\n",
    "finally:\n",
    "    send= pd.Timestamp.now()\n",
    "    print(send-stime)"
   ]
  },
  {
   "cell_type": "code",
   "execution_count": null,
   "id": "dc868349-4e92-4cc1-8cd0-61b210de706b",
   "metadata": {},
   "outputs": [],
   "source": []
  }
 ],
 "metadata": {
  "kernelspec": {
   "display_name": "Python 3 (ipykernel)",
   "language": "python",
   "name": "python3"
  },
  "language_info": {
   "codemirror_mode": {
    "name": "ipython",
    "version": 3
   },
   "file_extension": ".py",
   "mimetype": "text/x-python",
   "name": "python",
   "nbconvert_exporter": "python",
   "pygments_lexer": "ipython3",
   "version": "3.11.7"
  }
 },
 "nbformat": 4,
 "nbformat_minor": 5
}
